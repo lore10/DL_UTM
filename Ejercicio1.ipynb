{
 "cells": [
  {
   "cell_type": "markdown",
   "metadata": {},
   "source": [
    "Veamos los datos de entrenamiento: "
   ]
  },
  {
   "cell_type": "code",
   "execution_count": 1,
   "metadata": {
    "collapsed": false
   },
   "outputs": [
    {
     "name": "stderr",
     "output_type": "stream",
     "text": [
      "Using TensorFlow backend.\n"
     ]
    }
   ],
   "source": [
    "from keras.datasets import mnist"
   ]
  },
  {
   "cell_type": "code",
   "execution_count": 23,
   "metadata": {
    "collapsed": false,
    "deletable": true,
    "editable": true
   },
   "outputs": [],
   "source": [
    "(train_images, train_labels), (test_images, test_labels) = mnist.load_data()"
   ]
  },
  {
   "cell_type": "markdown",
   "metadata": {},
   "source": [
    "El flujo de trabajo será el siguiente: Primero, alimentaremos a la red neuronal con los datos de entrenamiento, train_images y train_labels. \n",
    "La red luego aprenderá a asociar imágenes y etiquetas. \n",
    "Finalmente, le pediremos a la red que produzca predicciones para test_images, y verificaremos si estas predicciones coinciden con las etiquetas de test_labels."
   ]
  },
  {
   "cell_type": "markdown",
   "metadata": {
    "collapsed": true,
    "deletable": true,
    "editable": true
   },
   "source": [
    "Construyamos la red; nuevamente, recuerde que no se espera que comprenda todo sobre este ejemplo.\n",
    "El componente básico de las redes neuronales es la capa, un módulo de procesamiento de datos que puede considerarse como un filtro de datos.\n",
    "Algunos datos entran y salen de una forma más útil. Específicamente, las capas extraen representaciones de los datos introducidos en ellas, con suerte, representaciones que son más significativas para el problema en cuestión. \n",
    "La mayor parte del aprendizaje profundo consiste en encadenar capas simples que implementarán una forma de destilación progresiva de datos. Un modelo de aprendizaje profundo es como un tamiz para el procesamiento de datos, hecho de una sucesión de filtros de datos cada vez más refinados: las capas.\n",
    "\n",
    "Aquí, nuestra red consiste en una secuencia de dos capas densas, que son capas neurales densamente conectadas (también llamadas completamente conectadas). La segunda (y última) capa es una capa softmax de 10 vías, lo que significa que devolverá una matriz de 10 puntajes de probabilidad (que sumados hacen un total de 1). \n",
    "\n",
    "Cada puntaje será la probabilidad de que la imagen de dígitos actual pertenezca a una de nuestras clases de 10 dígitos.\n"
   ]
  },
  {
   "cell_type": "code",
   "execution_count": 3,
   "metadata": {
    "collapsed": true
   },
   "outputs": [],
   "source": [
    "from matplotlib import pyplot"
   ]
  },
  {
   "cell_type": "code",
   "execution_count": 8,
   "metadata": {
    "collapsed": false
   },
   "outputs": [
    {
     "name": "stderr",
     "output_type": "stream",
     "text": [
      "/Users/AleLore/anaconda/envs/py36/lib/python3.6/site-packages/matplotlib/figure.py:98: MatplotlibDeprecationWarning: \n",
      "Adding an axes using the same arguments as a previous axes currently reuses the earlier instance.  In a future version, a new instance will always be created and returned.  Meanwhile, this warning can be suppressed, and the future behavior ensured, by passing a unique label to each axes instance.\n",
      "  \"Adding an axes using the same arguments as a previous axes \"\n"
     ]
    }
   ],
   "source": [
    "for i in range(0, 9):\n",
    "    pyplot.subplot(330 + 1 + i)\n",
    "    pyplot.imshow(train_images[i], cmap=pyplot.get_cmap('gray'))"
   ]
  },
  {
   "cell_type": "code",
   "execution_count": 9,
   "metadata": {
    "collapsed": false
   },
   "outputs": [
    {
     "data": {
      "image/png": "[encoded data removed]",
      "text/plain": [
       "<Figure size 432x288 with 9 Axes>"
      ]
     },
     "metadata": {},
     "output_type": "display_data"
    }
   ],
   "source": [
    "pyplot.show()"
   ]
  },
  {
   "cell_type": "code",
   "execution_count": 12,
   "metadata": {
    "collapsed": false
   },
   "outputs": [
    {
     "data": {
      "image/png": "[encoded data removed]",
      "text/plain": [
       "<Figure size 432x288 with 1 Axes>"
      ]
     },
     "metadata": {},
     "output_type": "display_data"
    }
   ],
   "source": [
    "digit = train_images[4]\n",
    "pyplot.imshow(digit, cmap=pyplot.cm.binary)\n",
    "pyplot.show()"
   ]
  },
  {
   "cell_type": "code",
   "execution_count": 26,
   "metadata": {
    "collapsed": false
   },
   "outputs": [
    {
     "data": {
      "image/png": "[encoded data removed]",
      "text/plain": [
       "<Figure size 432x288 with 9 Axes>"
      ]
     },
     "metadata": {},
     "output_type": "display_data"
    }
   ],
   "source": [
    "for i in range(0, 9):\n",
    "    pyplot.subplot(330 + 1 + i)\n",
    "    pyplot.imshow(test_images[i], cmap=pyplot.get_cmap('gray'))\n",
    "pyplot.show()"
   ]
  },
  {
   "cell_type": "code",
   "execution_count": 14,
   "metadata": {
    "collapsed": true
   },
   "outputs": [],
   "source": [
    "from keras import models\n",
    "from keras import layers"
   ]
  },
  {
   "cell_type": "code",
   "execution_count": 15,
   "metadata": {
    "collapsed": true
   },
   "outputs": [],
   "source": [
    "#The network architecture\n",
    "network = models.Sequential()\n",
    "network.add(layers.Dense(512, activation='relu', input_shape=(28 * 28,)))\n",
    "network.add(layers.Dense(10, activation='softmax'))"
   ]
  },
  {
   "cell_type": "markdown",
   "metadata": {},
   "source": [
    "Para preparar la red para el entrenamiento, debemos elegir tres cosas más, como parte del paso de compilación:\n",
    "1. Una función de pérdida: cómo la red podrá medir su rendimiento en los datos de entrenamiento y, por lo tanto, cómo podrá dirigirse en la dirección correcta.\n",
    "2. Un optimizador: el mecanismo a través del cual la red se actualizará en función de los datos que ve y su función de pérdida.\n",
    "3. Métricas para monitorear durante el entrenamiento y las pruebas: aquí, solo nos preocuparemos por la precisión (la fracción de las imágenes que se clasificaron correctamente)."
   ]
  },
  {
   "cell_type": "code",
   "execution_count": 16,
   "metadata": {
    "collapsed": true
   },
   "outputs": [],
   "source": [
    "#The compilation step\n",
    "network.compile(optimizer='rmsprop',\n",
    "loss='categorical_crossentropy',\n",
    "metrics=['accuracy'])"
   ]
  },
  {
   "cell_type": "markdown",
   "metadata": {},
   "source": [
    "Antes de entrenar, procesaremos los datos previamente rediseñándolos en la forma que la red espera y ajustándolos para que todos los valores estén en el intervalo [0, 1]. Anteriormente, nuestras imágenes de entrenamiento, por ejemplo, se almacenaban en una matriz de formas (60000, 28, 28) de tipo uint8 con valores en el intervalo [0, 255]. Lo transformamos en una matriz de forma float32 (60000, 28 * 28) con valores entre 0 y 1."
   ]
  },
  {
   "cell_type": "code",
   "execution_count": 27,
   "metadata": {
    "collapsed": true
   },
   "outputs": [],
   "source": [
    "#Preparing the image data\n",
    "train_images = train_images.reshape((60000, 28 * 28))\n",
    "train_images = train_images.astype('float32') / 255\n",
    "test_images = test_images.reshape((10000, 28 * 28))\n",
    "test_images = test_images.astype('float32') / 255"
   ]
  },
  {
   "cell_type": "markdown",
   "metadata": {},
   "source": [
    "También necesitamos codificar categóricamente las etiquetas"
   ]
  },
  {
   "cell_type": "code",
   "execution_count": 18,
   "metadata": {
    "collapsed": true
   },
   "outputs": [],
   "source": [
    "#Preparing the labels\n",
    "from keras.utils import to_categorical\n",
    "train_labels = to_categorical(train_labels)\n",
    "test_labels = to_categorical(test_labels)"
   ]
  },
  {
   "cell_type": "markdown",
   "metadata": {},
   "source": [
    "Ahora estamos listos para entrenar a la red, lo que en Keras se realiza mediante una llamada al método de ajuste de la red: ajustamos el modelo a sus datos de entrenamiento:"
   ]
  },
  {
   "cell_type": "code",
   "execution_count": 19,
   "metadata": {
    "collapsed": false
   },
   "outputs": [
    {
     "name": "stdout",
     "output_type": "stream",
     "text": [
      "Epoch 1/5\n",
      "60000/60000 [==============================] - 3s 58us/step - loss: 0.2572 - accuracy: 0.9254\n",
      "Epoch 2/5\n",
      "60000/60000 [==============================] - 4s 62us/step - loss: 0.1025 - accuracy: 0.9687\n",
      "Epoch 3/5\n",
      "60000/60000 [==============================] - 4s 70us/step - loss: 0.0682 - accuracy: 0.9798\n",
      "Epoch 4/5\n",
      "60000/60000 [==============================] - 4s 63us/step - loss: 0.0496 - accuracy: 0.9851\n",
      "Epoch 5/5\n",
      "60000/60000 [==============================] - 4s 63us/step - loss: 0.0366 - accuracy: 0.9886\n"
     ]
    },
    {
     "data": {
      "text/plain": [
       "<keras.callbacks.callbacks.History at 0x138c6af60>"
      ]
     },
     "execution_count": 19,
     "metadata": {},
     "output_type": "execute_result"
    }
   ],
   "source": [
    "network.fit(train_images, train_labels, epochs=5, batch_size=128)"
   ]
  },
  {
   "cell_type": "markdown",
   "metadata": {},
   "source": [
    "Se muestran dos cantidades durante el entrenamiento: la pérdida de la red sobre los datos de entrenamiento y la precisión de la red sobre los datos de entrenamiento. Alcanzamos rápidamente una precisión de 0.989 (98.9%) en los datos de entrenamiento. Ahora verifiquemos que el modelo también funcione bien en el conjunto de prueba:\n",
    "\n"
   ]
  },
  {
   "cell_type": "code",
   "execution_count": 20,
   "metadata": {
    "collapsed": false
   },
   "outputs": [
    {
     "name": "stdout",
     "output_type": "stream",
     "text": [
      "10000/10000 [==============================] - 1s 55us/step\n"
     ]
    }
   ],
   "source": [
    "test_loss, test_acc = network.evaluate(test_images, test_labels)"
   ]
  },
  {
   "cell_type": "code",
   "execution_count": 21,
   "metadata": {
    "collapsed": false
   },
   "outputs": [
    {
     "name": "stdout",
     "output_type": "stream",
     "text": [
      "test_acc: 0.9771999716758728\n"
     ]
    }
   ],
   "source": [
    "print('test_acc:', test_acc)"
   ]
  },
  {
   "cell_type": "markdown",
   "metadata": {},
   "source": [
    "La precisión del conjunto de prueba resulta ser del 97.8%, que es bastante menor que la precisión del conjunto de entrenamiento. Esta brecha entre la precisión del entrenamiento y la precisión de la prueba es un ejemplo de sobreajuste (overfitting): el hecho de que los modelos de aprendizaje automático tienden a funcionar peor en los nuevos datos que en sus datos de entrenamiento. \n",
    "\n",
    "Esto concluye nuestro primer ejemplo: usted acaba de ver cómo puede construir y entrenar una red neuronal para clasificar dígitos escritos a mano en menos de 20 líneas de código Python. "
   ]
  },
  {
   "cell_type": "code",
   "execution_count": 29,
   "metadata": {
    "collapsed": false
   },
   "outputs": [
    {
     "name": "stdout",
     "output_type": "stream",
     "text": [
      "7 (expected 7)\n",
      "2 (expected 2)\n",
      "1 (expected 1)\n",
      "0 (expected 0)\n",
      "4 (expected 4)\n",
      "1 (expected 1)\n",
      "4 (expected 4)\n",
      "9 (expected 9)\n",
      "5 (expected 5)\n",
      "9 (expected 9)\n"
     ]
    }
   ],
   "source": [
    "# make class predictions with the model\n",
    "predictions = network.predict_classes(test_images)\n",
    "for i in range(10):\n",
    "    print('%d (expected %d)' % (predictions[i], test_labels[i]))\n",
    "\n"
   ]
  },
  {
   "cell_type": "code",
   "execution_count": null,
   "metadata": {
    "collapsed": true
   },
   "outputs": [],
   "source": []
  }
 ],
 "metadata": {
  "kernelspec": {
   "display_name": "Python 3",
   "language": "python",
   "name": "python3"
  },
  "language_info": {
   "codemirror_mode": {
    "name": "ipython",
    "version": 3
   },
   "file_extension": ".py",
   "mimetype": "text/x-python",
   "name": "python",
   "nbconvert_exporter": "python",
   "pygments_lexer": "ipython3",
   "version": "3.6.5"
  }
 },
 "nbformat": 4,
 "nbformat_minor": 0
}
